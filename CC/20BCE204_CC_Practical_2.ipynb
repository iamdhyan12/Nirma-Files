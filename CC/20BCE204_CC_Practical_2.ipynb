{
  "nbformat": 4,
  "nbformat_minor": 0,
  "metadata": {
    "colab": {
      "provenance": []
    },
    "kernelspec": {
      "name": "python3",
      "display_name": "Python 3"
    },
    "language_info": {
      "name": "python"
    }
  },
  "cells": [
    {
      "cell_type": "markdown",
      "source": [
        "20BCE204 CC Practical 2\n"
      ],
      "metadata": {
        "id": "XIoPN4ilw0k7"
      }
    },
    {
      "cell_type": "code",
      "source": [
        "dd = {}\n",
        "\n",
        "# S -> aAB | aB\n",
        "# A -> aA | ep\n",
        "# B -> bB | ep\n",
        "dd['S'] = ['aAB', 'aB']\n",
        "dd['A'] = ['aA', '']\n",
        "dd['B'] = ['bB', '']\n",
        "\n",
        "ss = input(\"Enter your String: \")\n",
        "\n",
        "def S(ss):\n",
        "    if len(ss) == 1:\n",
        "        if ss[0] == 'a':\n",
        "            print(\"String is Valid.\")\n",
        "        else:\n",
        "            print(\"String is Invalid.\")\n",
        "    elif len(ss) == 2:\n",
        "        if ss == 'ab':\n",
        "            print(\"String is Valid.\")\n",
        "        else:\n",
        "            print(\"String is Invalid.\")\n",
        "    elif ss[0] == 'b':\n",
        "        print(\"String is Invalid.\")\n",
        "    elif ss[1] == 'a':\n",
        "        A(ss[2:])\n",
        "    else:\n",
        "        B(ss[2:])\n",
        "\n",
        "def A(ss):\n",
        "    i = 0\n",
        "    while i < len(ss) and ss[i] == 'a':\n",
        "        i += 1\n",
        "    if i == len(ss):\n",
        "        print(\"String is Valid.\")\n",
        "    else:\n",
        "        B(ss[i + 1:])\n",
        "\n",
        "def B(ss):\n",
        "    i = 0\n",
        "    while i < len(ss) and ss[i] == 'b':\n",
        "        i += 1\n",
        "    if i == len(ss):\n",
        "        print(\"String is Valid.\")\n",
        "    else:\n",
        "        print(\"String is Invalid.\")\n",
        "\n",
        "S(ss)\n"
      ],
      "metadata": {
        "id": "xo_tSr49w775"
      },
      "execution_count": null,
      "outputs": []
    }
  ]
}