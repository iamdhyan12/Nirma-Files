{
  "nbformat": 4,
  "nbformat_minor": 0,
  "metadata": {
    "colab": {
      "provenance": []
    },
    "kernelspec": {
      "name": "python3",
      "display_name": "Python 3"
    },
    "language_info": {
      "name": "python"
    }
  },
  "cells": [
    {
      "cell_type": "markdown",
      "source": [
        "20BCE204 CC Practical 3\n",
        "\n"
      ],
      "metadata": {
        "id": "aIMdCHslxHO-"
      }
    },
    {
      "cell_type": "code",
      "source": [
        "def grammer_generate(nt,t):\n",
        "    dic={}\n",
        "    for i in nt:\n",
        "        production = input(\"Enter the productions of the terminal \"+i+\" : \").split('|')\n",
        "        dic[i] = production\n",
        "    return dic\n",
        "\n",
        "# E ® TE’\n",
        "# E’ ® +TE’ | e\n",
        "# T ® FT’\n",
        "# T’ ® *FT’ | e\n",
        "# F ® (E) | id\n",
        "\n",
        "# E D T S F\n",
        "# + ( ) * i #\n",
        "# TD"
      ],
      "metadata": {
        "id": "e5vm9NMjVAeJ"
      },
      "execution_count": 1,
      "outputs": []
    },
    {
      "cell_type": "code",
      "source": [
        "non_terminal = input(\"Enter the Non terminals is in the Grammer :\\n\")\n",
        "non_terminal = non_terminal.split()\n",
        "terminal = input(\"Enter the terminal is in the Grammer :\\n\")\n",
        "terminal = terminal.split()\n",
        "\n",
        "grammer = grammer_generate(non_terminal,terminal)"
      ],
      "metadata": {
        "colab": {
          "base_uri": "https://localhost:8080/"
        },
        "id": "aSsU5YGQVAhJ",
        "outputId": "e7df12ba-7690-4dbd-839c-c26c6ac18f29"
      },
      "execution_count": 2,
      "outputs": [
        {
          "name": "stdout",
          "output_type": "stream",
          "text": [
            "Enter the Non terminals is in the Grammer :\n",
            "E D T S F\n",
            "Enter the terminal is in the Grammer :\n",
            "+ ( ) * i #\n",
            "Enter the productions of the terminal E : TD\n",
            "Enter the productions of the terminal D : +TD|#\n",
            "Enter the productions of the terminal T : FS\n",
            "Enter the productions of the terminal S : *FS|#\n",
            "Enter the productions of the terminal F : (E)|i\n"
          ]
        }
      ]
    },
    {
      "cell_type": "code",
      "source": [
        "def find_first(symbol):\n",
        "    #if terminal\n",
        "    if symbol in terminal:\n",
        "        return {symbol}\n",
        "\n",
        "    #if non-terminal\n",
        "    first_set = set()\n",
        "    for production in productions[symbol]:\n",
        "        if production[0] in terminal:\n",
        "            first_set.add(production[0])\n",
        "        else:\n",
        "            first_set.update(find_first(production[0]))\n",
        "    return first_set"
      ],
      "metadata": {
        "id": "WvNb4xxGVAnK"
      },
      "execution_count": 3,
      "outputs": []
    },
    {
      "cell_type": "code",
      "source": [
        "def find_follow(symbol):\n",
        "    follow_set = set()\n",
        "\n",
        "    if symbol == start_symbol:\n",
        "        follow_set.add('$')\n",
        "\n",
        "    for left_symbol, production_list in productions.items():\n",
        "        for production in production_list:\n",
        "            if symbol in production:\n",
        "                idx = production.index(symbol)\n",
        "                if idx == len(production) - 1:\n",
        "                    if left_symbol != symbol:\n",
        "                        follow_set.update(find_follow(left_symbol))\n",
        "                else:\n",
        "                    next_symbol = production[idx + 1]\n",
        "                    if next_symbol in terminal:\n",
        "                        follow_set.add(next_symbol)\n",
        "                    else:\n",
        "                        follow_set.update(find_first(next_symbol))\n",
        "                        if '#' in follow_set:\n",
        "                            follow_set.remove('#')\n",
        "                            follow_set.update(find_follow(left_symbol))\n",
        "    return follow_set"
      ],
      "metadata": {
        "id": "L-qlRv-uVFjC"
      },
      "execution_count": 4,
      "outputs": []
    },
    {
      "cell_type": "code",
      "source": [
        "productions=grammer\n",
        "start_symbol = 'E'\n",
        "\n",
        "first_sets = {}\n",
        "follow_sets = {}\n",
        "\n",
        "for symbol in productions.keys():\n",
        "    first_sets[symbol] = find_first(symbol)\n",
        "    follow_sets[symbol] = find_follow(symbol)\n",
        "\n",
        "print(\"First Sets:\")\n",
        "for symbol, first_set in first_sets.items():\n",
        "    print(f\"First({symbol}) =\", first_set)\n",
        "\n",
        "print(\"\\nFollow Sets:\")\n",
        "for symbol, follow_set in follow_sets.items():\n",
        "    print(f\"Follow({symbol}) =\", follow_set)"
      ],
      "metadata": {
        "colab": {
          "base_uri": "https://localhost:8080/"
        },
        "id": "Al7n1AaYVFmK",
        "outputId": "c5765803-11e0-486e-fcf4-9b2a2e94b87e"
      },
      "execution_count": 5,
      "outputs": [
        {
          "output_type": "stream",
          "name": "stdout",
          "text": [
            "First Sets:\n",
            "First(E) = {'i', '('}\n",
            "First(D) = {'+', '#'}\n",
            "First(T) = {'i', '('}\n",
            "First(S) = {'*', '#'}\n",
            "First(F) = {'i', '('}\n",
            "\n",
            "Follow Sets:\n",
            "Follow(E) = {')', '$'}\n",
            "Follow(D) = {')', '$'}\n",
            "Follow(T) = {'+', ')', '$'}\n",
            "Follow(S) = {'+', ')', '$'}\n",
            "Follow(F) = {'+', '*', ')', '$'}\n"
          ]
        }
      ]
    },
    {
      "cell_type": "code",
      "source": [],
      "metadata": {
        "id": "yQI6BkNzVFsq"
      },
      "execution_count": null,
      "outputs": []
    },
    {
      "cell_type": "code",
      "source": [],
      "metadata": {
        "id": "9bzPudMKVAqQ"
      },
      "execution_count": null,
      "outputs": []
    }
  ]
}