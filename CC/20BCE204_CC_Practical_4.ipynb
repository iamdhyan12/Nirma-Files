{
  "cells": [
    {
      "cell_type": "markdown",
      "source": [
        "20BCE204 CC Practical 4\n"
      ],
      "metadata": {
        "id": "-ykjy0eKw-RS"
      }
    },
    {
      "cell_type": "code",
      "execution_count": 9,
      "metadata": {
        "id": "OMEN22P2XX8h"
      },
      "outputs": [],
      "source": [
        "import numpy\n",
        "def grammer_generate(nt,t):\n",
        "    dic={}\n",
        "    for i in nt:\n",
        "        production = input(\"Enter the productions of the terminal \"+i+\" : \").split('|')\n",
        "        dic[i] = production\n",
        "    return dic\n",
        "\n",
        "\n",
        "def remove(non_terminal,prod):\n",
        "    new_grammer={}\n",
        "    temp=[]\n",
        "    temp1=[]\n",
        "    for i in range(len(prod)):\n",
        "        if prod[i][0]!=non_terminal:\n",
        "            temp.append(prod[i]+non_terminal+'*')\n",
        "        else:\n",
        "            temp1.append(prod[i][1:]+non_terminal+'*')\n",
        "    new_grammer[non_terminal] = temp\n",
        "    temp1.append('ep')\n",
        "    new_grammer[non_terminal+'*'] = temp1\n",
        "    return new_grammer\n",
        "\n",
        "\n",
        "def check_left_recursion(grammer):\n",
        "    left_remove_grammer={}\n",
        "    for i in grammer:\n",
        "        c=0\n",
        "        for j in grammer[i]:\n",
        "            if j[0]==i:\n",
        "                new_production = remove(i,grammer[i])\n",
        "                for i in new_production:\n",
        "                    left_remove_grammer[i] = new_production[i]\n",
        "                c=1\n",
        "            if c==1:\n",
        "                break\n",
        "        else:\n",
        "            left_remove_grammer[i] = grammer[i]\n",
        "\n",
        "    return left_remove_grammer\n",
        "def remove_indirect_recursion(grammar):\n",
        "    non_terminals = list(grammar.keys())\n",
        "    for i in range(1,len(non_terminals)):\n",
        "        A = non_terminals[i]\n",
        "        for j in range(0,i+1):\n",
        "          if j!=i:\n",
        "              B = non_terminals[j]\n",
        "              new_productions = []\n",
        "              for prod in grammar[A]:\n",
        "                if prod[0]== B:\n",
        "                  alpha = prod[len(B):]\n",
        "                  for beta in grammar[B]:\n",
        "                    new_productions.append(beta + alpha)\n",
        "                else:\n",
        "                  new_productions.append(prod)\n",
        "              grammar[A] = new_productions\n",
        "\n",
        "\n",
        "        grammar=check_left_recursion(grammar)\n",
        "    return grammar"
      ]
    },
    {
      "cell_type": "code",
      "execution_count": 2,
      "metadata": {
        "colab": {
          "base_uri": "https://localhost:8080/"
        },
        "id": "YtniUY2pXX8k",
        "outputId": "a4737b89-2e83-4e52-c8d2-00d7181bd8fb"
      },
      "outputs": [
        {
          "name": "stdout",
          "output_type": "stream",
          "text": [
            "Enter the Non terminals is in the Grammer :\n",
            "S A\n",
            "Enter the terminal is in the Grammer :\n",
            "a b c d f\n",
            "Enter the productions of the terminal S : Aa | b\n",
            "Enter the productions of the terminal A : Ac|Sd|f\n"
          ]
        }
      ],
      "source": [
        "non_terminal = input(\"Enter the Non terminals is in the Grammer :\\n\")\n",
        "non_terminal = non_terminal.split()\n",
        "terminal = input(\"Enter the terminal is in the Grammer :\\n\")\n",
        "terminal = terminal.split()\n",
        "\n",
        "grammer = grammer_generate(non_terminal,terminal)"
      ]
    },
    {
      "cell_type": "code",
      "source": [
        "non_terminal = input(\"Enter the Non terminals is in the Grammer :\\n\")\n",
        "non_terminal = non_terminal.split()\n",
        "terminal = input(\"Enter the terminal is in the Grammer :\\n\")\n",
        "terminal = terminal.split()\n",
        "\n",
        "grammer = grammer_generate(non_terminal,terminal)"
      ],
      "metadata": {
        "colab": {
          "base_uri": "https://localhost:8080/"
        },
        "id": "Ti231lx6ZXLH",
        "outputId": "1e78d079-ceb0-49c2-f834-18d18188ca3d"
      },
      "execution_count": 2,
      "outputs": [
        {
          "name": "stdout",
          "output_type": "stream",
          "text": [
            "Enter the Non terminals is in the Grammer :\n",
            "S A\n",
            "Enter the terminal is in the Grammer :\n",
            "a b c d f\n",
            "Enter the productions of the terminal S : Aa|b\n",
            "Enter the productions of the terminal A : Ac|Sd|f\n"
          ]
        }
      ]
    },
    {
      "cell_type": "code",
      "source": [
        "grammer"
      ],
      "metadata": {
        "colab": {
          "base_uri": "https://localhost:8080/"
        },
        "id": "SLNCqdiZbM5-",
        "outputId": "f67e39ab-db63-40eb-9f1e-78b03cb74f9e"
      },
      "execution_count": 3,
      "outputs": [
        {
          "output_type": "execute_result",
          "data": {
            "text/plain": [
              "{'S': ['Aa ', ' b'], 'A': ['Ac', 'Sd', 'f']}"
            ]
          },
          "metadata": {},
          "execution_count": 3
        }
      ]
    },
    {
      "cell_type": "code",
      "source": [
        "g=remove_indirect_recursion(grammer)\n",
        "print(\"Grammer after removing Indirect Recurison is : \")\n",
        "for i in g:\n",
        "    print(i,end=' -> ')\n",
        "    print('|'.join(g[i]))"
      ],
      "metadata": {
        "colab": {
          "base_uri": "https://localhost:8080/"
        },
        "id": "HktiUpT9oK-_",
        "outputId": "756be211-0bf3-4dba-a756-3c0b631fb0e3"
      },
      "execution_count": 10,
      "outputs": [
        {
          "output_type": "stream",
          "name": "stdout",
          "text": [
            "Grammer after removing Indirect Recurison is : \n",
            "S -> Aa | b\n",
            "A ->  bdA*|fA*\n",
            "A* -> cA*|a dA*|ep\n"
          ]
        }
      ]
    }
  ],
  "metadata": {
    "kernelspec": {
      "display_name": "Python 3",
      "language": "python",
      "name": "python3"
    },
    "language_info": {
      "codemirror_mode": {
        "name": "ipython",
        "version": 3
      },
      "file_extension": ".py",
      "mimetype": "text/x-python",
      "name": "python",
      "nbconvert_exporter": "python",
      "pygments_lexer": "ipython3",
      "version": "3.10.2"
    },
    "orig_nbformat": 4,
    "colab": {
      "provenance": []
    }
  },
  "nbformat": 4,
  "nbformat_minor": 0
}