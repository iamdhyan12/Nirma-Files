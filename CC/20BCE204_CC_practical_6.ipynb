{
  "nbformat": 4,
  "nbformat_minor": 0,
  "metadata": {
    "colab": {
      "provenance": []
    },
    "kernelspec": {
      "name": "python3",
      "display_name": "Python 3"
    },
    "language_info": {
      "name": "python"
    }
  },
  "cells": [
    {
      "cell_type": "code",
      "execution_count": 6,
      "metadata": {
        "colab": {
          "base_uri": "https://localhost:8080/"
        },
        "id": "GuNRF9nEpSfC",
        "outputId": "caa256a3-d523-49b3-e828-0ea477107e83"
      },
      "outputs": [
        {
          "output_type": "stream",
          "name": "stdout",
          "text": [
            "s=a+b*c/d-e\n",
            "abcd/e-*+\n",
            "temp0 = c / d\n",
            "temp1 = 0 - e\n",
            "temp2 = b * 1\n",
            "temp3 = a + 2\n",
            "s = temp3\n"
          ]
        }
      ],
      "source": [
        "def precedence(st):\n",
        "    if st == '+' or st == '-':\n",
        "        return 1\n",
        "    elif st == '*' or st == '/':\n",
        "        return 2\n",
        "    elif st == ')':\n",
        "        return 0\n",
        "    else:\n",
        "        return 3\n",
        "\n",
        "s = input()\n",
        "n = len(s)\n",
        "postfix = \"\"\n",
        "st = []\n",
        "for i in range(2, n):\n",
        "    if s[i] >= 'a' and s[i] <= 'z':\n",
        "        postfix += s[i]\n",
        "    elif s[i] == '(':\n",
        "        st.append(s[i])\n",
        "    elif s[i] == ')':\n",
        "        while len(st) > 0 and st[-1] != '(':\n",
        "            if st[-1] == '(':\n",
        "                continue\n",
        "            postfix += st[-1]\n",
        "            st.pop()\n",
        "        if len(st) > 0:\n",
        "            st.pop()\n",
        "    else:\n",
        "        if len(st) == 0:\n",
        "            st.append(s[i])\n",
        "        elif precedence(s[i]) >= precedence(st[-1]):\n",
        "            st.append(s[i])\n",
        "        else:\n",
        "            op = st[-1]\n",
        "            st.pop()\n",
        "            st.append(s[i])\n",
        "            if op == '(':\n",
        "                continue\n",
        "            postfix += op\n",
        "\n",
        "while len(st) > 0:\n",
        "    postfix += st[-1]\n",
        "    st.pop()\n",
        "\n",
        "print(postfix)\n",
        "\n",
        "st1 = []\n",
        "temp = 0\n",
        "\n",
        "i = 0\n",
        "while i < len(postfix):\n",
        "    if 'a' <= postfix[i] <= 'z':\n",
        "        st1.append(postfix[i])\n",
        "    else:\n",
        "        opr2 = st1.pop()\n",
        "        opr1 = st1.pop()\n",
        "        print(f\"temp{temp} = {opr1} {postfix[i]} {opr2}\")\n",
        "        st1.append(str(temp))\n",
        "        temp += 1\n",
        "    i += 1\n",
        "\n",
        "print(f\"{s[0]} = temp{st1[-1]}\")"
      ]
    }
  ]
}